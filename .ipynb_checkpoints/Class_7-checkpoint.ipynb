{
 "cells": [
  {
   "cell_type": "markdown",
   "metadata": {},
   "source": [
    "# Classes(attributes and behaviours)"
   ]
  },
  {
   "cell_type": "code",
   "execution_count": 24,
   "metadata": {},
   "outputs": [],
   "source": [
    "#koe class\n",
    "#koe bhi object apn class ka part haota h\n",
    "#rules of cars and path \n",
    "#jo aik hi claass hn un mae sb chezzaun same hn gyien\n",
    "#fan properties(colour,)\n",
    "#behaviour(volt)"
   ]
  },
  {
   "cell_type": "code",
   "execution_count": 25,
   "metadata": {},
   "outputs": [],
   "source": [
    "class Mobile():\n",
    "    #attributes>>>>>>>>>>>>>>>>>>Variables\n",
    "    def __init__(self,brand,colour,price,memory,ram):#intializer(__init__)\n",
    "        self.mobileBrand = brand\n",
    "        self.mobileColour = colour\n",
    "        self.mobilePrice = price\n",
    "        self.mobileMemory = memory\n",
    "        self.mobileRam = ram\n",
    "    def makecall(self) :\n",
    "        print(\"mobile is dailing a number\")\n",
    "    def recvcall(self):\n",
    "        print(\"mobile is recived a call\")\n",
    "    def Sendmessage(self):\n",
    "        print(\"mobile is sending a message\")\n",
    "    def recvmessage(self):\n",
    "        print(\"mobile is reciving a message\") "
   ]
  },
  {
   "cell_type": "code",
   "execution_count": 26,
   "metadata": {},
   "outputs": [],
   "source": [
    "mobile1 = Mobile(\"Nokia\",\"black\",\"10000\",\"16GB\",\"2GB\")"
   ]
  },
  {
   "cell_type": "code",
   "execution_count": 27,
   "metadata": {},
   "outputs": [
    {
     "ename": "TypeError",
     "evalue": "__init__() missing 1 required positional argument: 'ram'",
     "output_type": "error",
     "traceback": [
      "\u001b[1;31m---------------------------------------------------------------------------\u001b[0m",
      "\u001b[1;31mTypeError\u001b[0m                                 Traceback (most recent call last)",
      "\u001b[1;32m<ipython-input-27-11e1c67384b2>\u001b[0m in \u001b[0;36m<module>\u001b[1;34m\u001b[0m\n\u001b[1;32m----> 1\u001b[1;33m \u001b[0mmobile2\u001b[0m \u001b[1;33m=\u001b[0m \u001b[0mMobile\u001b[0m\u001b[1;33m(\u001b[0m\u001b[1;34m\"Nokia\"\u001b[0m\u001b[1;33m,\u001b[0m\u001b[1;34m\"blue\"\u001b[0m\u001b[1;33m,\u001b[0m\u001b[1;34m\"16GB\"\u001b[0m\u001b[1;33m,\u001b[0m\u001b[1;34m\"2GB\"\u001b[0m\u001b[1;33m)\u001b[0m\u001b[1;33m\u001b[0m\u001b[1;33m\u001b[0m\u001b[0m\n\u001b[0m",
      "\u001b[1;31mTypeError\u001b[0m: __init__() missing 1 required positional argument: 'ram'"
     ]
    }
   ],
   "source": [
    "mobile2 = Mobile(\"Nokia\",\"blue\",\"16GB\",\"2GB\")"
   ]
  },
  {
   "cell_type": "code",
   "execution_count": 28,
   "metadata": {},
   "outputs": [],
   "source": [
    "class Mobile():\n",
    "    #attributes>>>>>>>>>>>>>>>>>>Variables\n",
    "    def __init__(self,brand,colour,memory,ram,price):#intializer(__init__)\n",
    "        self.mobileBrand = brand#self used tou guide the instructor \n",
    "        self.mobileColour = colour\n",
    "        self.mobilePrice = price\n",
    "        self.mobileMemory = memory\n",
    "        self.mobileRam = ram\n",
    "    def makecall(self) :\n",
    "        print(\"mobile is dailing a number\")\n",
    "    def recvcall(self):\n",
    "        print(\"mobile is recived a call\")\n",
    "    def Sendmessage(self):\n",
    "        print(\"mobile is sending a message\")\n",
    "    def recvmessage(self):\n",
    "        print(\"mobile is reciving a message\") "
   ]
  },
  {
   "cell_type": "code",
   "execution_count": 29,
   "metadata": {},
   "outputs": [],
   "source": [
    "mobile2 = Mobile(\"Nokia\",\"blue\",10000,\"16GB\",\"2GB\",)"
   ]
  },
  {
   "cell_type": "code",
   "execution_count": 30,
   "metadata": {},
   "outputs": [
    {
     "data": {
      "text/plain": [
       "'2GB'"
      ]
     },
     "execution_count": 30,
     "metadata": {},
     "output_type": "execute_result"
    }
   ],
   "source": [
    "mobile1.mobileRam"
   ]
  },
  {
   "cell_type": "code",
   "execution_count": 31,
   "metadata": {},
   "outputs": [
    {
     "data": {
      "text/plain": [
       "'black'"
      ]
     },
     "execution_count": 31,
     "metadata": {},
     "output_type": "execute_result"
    }
   ],
   "source": [
    "mobile1.mobileColour"
   ]
  },
  {
   "cell_type": "code",
   "execution_count": 32,
   "metadata": {},
   "outputs": [
    {
     "data": {
      "text/plain": [
       "'Nokia'"
      ]
     },
     "execution_count": 32,
     "metadata": {},
     "output_type": "execute_result"
    }
   ],
   "source": [
    "mobile1.mobileBrand"
   ]
  },
  {
   "cell_type": "code",
   "execution_count": 33,
   "metadata": {},
   "outputs": [
    {
     "data": {
      "text/plain": [
       "'16GB'"
      ]
     },
     "execution_count": 33,
     "metadata": {},
     "output_type": "execute_result"
    }
   ],
   "source": [
    "mobile1.mobileMemory"
   ]
  },
  {
   "cell_type": "code",
   "execution_count": 34,
   "metadata": {},
   "outputs": [
    {
     "data": {
      "text/plain": [
       "'10000'"
      ]
     },
     "execution_count": 34,
     "metadata": {},
     "output_type": "execute_result"
    }
   ],
   "source": [
    "mobile1.mobilePrice"
   ]
  },
  {
   "cell_type": "code",
   "execution_count": 37,
   "metadata": {},
   "outputs": [
    {
     "data": {
      "text/plain": [
       "<bound method Mobile.makecall of <__main__.Mobile object at 0x000000000602DC50>>"
      ]
     },
     "execution_count": 37,
     "metadata": {},
     "output_type": "execute_result"
    }
   ],
   "source": [
    "mobile1.makecall#gives error without brackets ()"
   ]
  },
  {
   "cell_type": "code",
   "execution_count": 38,
   "metadata": {},
   "outputs": [
    {
     "name": "stdout",
     "output_type": "stream",
     "text": [
      "mobile is dailing a number\n"
     ]
    }
   ],
   "source": [
    "mobile1.makecall()"
   ]
  },
  {
   "cell_type": "code",
   "execution_count": 39,
   "metadata": {},
   "outputs": [
    {
     "name": "stdout",
     "output_type": "stream",
     "text": [
      "mobile is recived a call\n"
     ]
    }
   ],
   "source": [
    "mobile1.recvcall()"
   ]
  },
  {
   "cell_type": "code",
   "execution_count": 40,
   "metadata": {},
   "outputs": [
    {
     "name": "stdout",
     "output_type": "stream",
     "text": [
      "mobile is reciving a message\n"
     ]
    }
   ],
   "source": [
    "mobile1.recvmessage()"
   ]
  },
  {
   "cell_type": "code",
   "execution_count": 41,
   "metadata": {},
   "outputs": [
    {
     "name": "stdout",
     "output_type": "stream",
     "text": [
      "mobile is sending a message\n"
     ]
    }
   ],
   "source": [
    "mobile1.Sendmessage()"
   ]
  },
  {
   "cell_type": "code",
   "execution_count": 55,
   "metadata": {},
   "outputs": [],
   "source": [
    " class Mobile():\n",
    "    #attributes>>>>>>>>>>>>>>>>>>Variables\n",
    "    def __init__(self,brand,colour,memory,ram,price=\"free\"):#intializer(__init__)\n",
    "        self.mobileBrand = brand#self used tou guide the instructor \n",
    "        self.mobileColour = colour\n",
    "        self.mobilePrice = price\n",
    "        self.mobileMemory = memory\n",
    "        self.mobileRam = ram\n",
    "    def makecall(self) :\n",
    "        print(f\"{self.mobileBrand} mobile is dailing a number\")\n",
    "    def recvcall(self):\n",
    "        print(f\"{self.mobileBrand} mobile is recived a call\")\n",
    "    def Sendmessage(self):\n",
    "        print(f\"{self.mobileBrand} mobile is sending a message\")\n",
    "    def recvmessage(self):\n",
    "        print(f\"{self.mobileBrand} mobile is reciving a message\") "
   ]
  },
  {
   "cell_type": "code",
   "execution_count": 73,
   "metadata": {},
   "outputs": [],
   "source": [
    "mobile2 = Mobile(\"Nokia\",\"blue\",\"16GB\",\"2GB\",10000)"
   ]
  },
  {
   "cell_type": "code",
   "execution_count": 74,
   "metadata": {},
   "outputs": [
    {
     "data": {
      "text/plain": [
       "'Nokia'"
      ]
     },
     "execution_count": 74,
     "metadata": {},
     "output_type": "execute_result"
    }
   ],
   "source": [
    "mobile2.mobileBrand"
   ]
  },
  {
   "cell_type": "code",
   "execution_count": 75,
   "metadata": {},
   "outputs": [
    {
     "data": {
      "text/plain": [
       "'blue'"
      ]
     },
     "execution_count": 75,
     "metadata": {},
     "output_type": "execute_result"
    }
   ],
   "source": [
    "mobile2.mobileColour"
   ]
  },
  {
   "cell_type": "code",
   "execution_count": 76,
   "metadata": {},
   "outputs": [
    {
     "data": {
      "text/plain": [
       "'16GB'"
      ]
     },
     "execution_count": 76,
     "metadata": {},
     "output_type": "execute_result"
    }
   ],
   "source": [
    "mobile2.mobileMemory"
   ]
  },
  {
   "cell_type": "code",
   "execution_count": 77,
   "metadata": {},
   "outputs": [
    {
     "data": {
      "text/plain": [
       "'2GB'"
      ]
     },
     "execution_count": 77,
     "metadata": {},
     "output_type": "execute_result"
    }
   ],
   "source": [
    "mobile2.mobileRam"
   ]
  },
  {
   "cell_type": "code",
   "execution_count": 78,
   "metadata": {},
   "outputs": [
    {
     "data": {
      "text/plain": [
       "10000"
      ]
     },
     "execution_count": 78,
     "metadata": {},
     "output_type": "execute_result"
    }
   ],
   "source": [
    "mobile2.mobilePrice"
   ]
  },
  {
   "cell_type": "code",
   "execution_count": 79,
   "metadata": {},
   "outputs": [
    {
     "name": "stdout",
     "output_type": "stream",
     "text": [
      "Nokia mobile is dailing a number\n"
     ]
    }
   ],
   "source": [
    "mobile2.makecall()"
   ]
  },
  {
   "cell_type": "code",
   "execution_count": 80,
   "metadata": {},
   "outputs": [
    {
     "name": "stdout",
     "output_type": "stream",
     "text": [
      "Nokia mobile is recived a call\n"
     ]
    }
   ],
   "source": [
    "mobile2.recvcall()"
   ]
  },
  {
   "cell_type": "code",
   "execution_count": 81,
   "metadata": {},
   "outputs": [
    {
     "name": "stdout",
     "output_type": "stream",
     "text": [
      "Nokia mobile is reciving a message\n"
     ]
    }
   ],
   "source": [
    "mobile2.recvmessage()"
   ]
  },
  {
   "cell_type": "code",
   "execution_count": 82,
   "metadata": {},
   "outputs": [
    {
     "name": "stdout",
     "output_type": "stream",
     "text": [
      "Nokia mobile is sending a message\n"
     ]
    }
   ],
   "source": [
    "mobile2.Sendmessage()"
   ]
  },
  {
   "cell_type": "code",
   "execution_count": 83,
   "metadata": {},
   "outputs": [],
   "source": [
    "class Student():\n",
    "    def __init__(self,name,gender,course,email):\n",
    "        self.name = name\n",
    "        self.gender = gender\n",
    "        self.course = course\n",
    "        self.email = email\n",
    "        self.GPA = 0\n",
    "    def getGPA (self) :#FIND TOU CALL KAREY.\n",
    "        print(f\"The GPA of {self.name} is {self.GPA}\")\n",
    "        \n",
    "    def setGPA (self,newGPA) :#gain new value and update\n",
    "        self.GPA = newGPA\n",
    "        \n",
    "        \n",
    "    def stuy(self):\n",
    "        print(f\"{self.name} is studing\")\n",
    "    def exam(self):\n",
    "        print(f\"{self.name} is appearing in exam\") \n",
    "    def SubmitAssignment(self):\n",
    "        print(f\"{self.name} is submitting assignment\")       "
   ]
  },
  {
   "cell_type": "code",
   "execution_count": 84,
   "metadata": {},
   "outputs": [],
   "source": [
    "s1 = Student(\"Maryam\",\"F\",\"Ai\",\"innocentmaryam224@gmail.com\")"
   ]
  },
  {
   "cell_type": "code",
   "execution_count": 85,
   "metadata": {},
   "outputs": [],
   "source": [
    "s2 = Student(\"Tehmina\",\"F\",\"Ai\",\"TehmiHassan2@gmail.com\")"
   ]
  },
  {
   "cell_type": "code",
   "execution_count": 86,
   "metadata": {},
   "outputs": [
    {
     "data": {
      "text/plain": [
       "'Maryam'"
      ]
     },
     "execution_count": 86,
     "metadata": {},
     "output_type": "execute_result"
    }
   ],
   "source": [
    "s1.name"
   ]
  },
  {
   "cell_type": "code",
   "execution_count": 87,
   "metadata": {},
   "outputs": [
    {
     "data": {
      "text/plain": [
       "'Tehmina'"
      ]
     },
     "execution_count": 87,
     "metadata": {},
     "output_type": "execute_result"
    }
   ],
   "source": [
    "s2.name"
   ]
  },
  {
   "cell_type": "code",
   "execution_count": 88,
   "metadata": {},
   "outputs": [],
   "source": [
    "s2.GPA = 3.2"
   ]
  },
  {
   "cell_type": "code",
   "execution_count": 89,
   "metadata": {},
   "outputs": [
    {
     "data": {
      "text/plain": [
       "3.2"
      ]
     },
     "execution_count": 89,
     "metadata": {},
     "output_type": "execute_result"
    }
   ],
   "source": [
    "s2.GPA"
   ]
  },
  {
   "cell_type": "code",
   "execution_count": 90,
   "metadata": {},
   "outputs": [
    {
     "name": "stdout",
     "output_type": "stream",
     "text": [
      "The GPA of Maryam is 0\n"
     ]
    }
   ],
   "source": [
    "s1.getGPA()"
   ]
  },
  {
   "cell_type": "code",
   "execution_count": 91,
   "metadata": {},
   "outputs": [],
   "source": [
    "s1.setGPA(4)"
   ]
  },
  {
   "cell_type": "code",
   "execution_count": 92,
   "metadata": {},
   "outputs": [
    {
     "name": "stdout",
     "output_type": "stream",
     "text": [
      "The GPA of Maryam is 4\n"
     ]
    }
   ],
   "source": [
    "s1.getGPA()"
   ]
  },
  {
   "cell_type": "markdown",
   "metadata": {},
   "source": [
    "# Inheritance"
   ]
  },
  {
   "cell_type": "code",
   "execution_count": 93,
   "metadata": {},
   "outputs": [],
   "source": [
    "#code reuseability\n",
    "#why we used inheritance \n",
    "#parent and child "
   ]
  },
  {
   "cell_type": "code",
   "execution_count": null,
   "metadata": {},
   "outputs": [],
   "source": []
  },
  {
   "cell_type": "code",
   "execution_count": 95,
   "metadata": {},
   "outputs": [
    {
     "ename": "IndentationError",
     "evalue": "unindent does not match any outer indentation level (<tokenize>, line 3)",
     "output_type": "error",
     "traceback": [
      "\u001b[1;36m  File \u001b[1;32m\"<tokenize>\"\u001b[1;36m, line \u001b[1;32m3\u001b[0m\n\u001b[1;33m    super()\u001b[0m\n\u001b[1;37m    ^\u001b[0m\n\u001b[1;31mIndentationError\u001b[0m\u001b[1;31m:\u001b[0m unindent does not match any outer indentation level\n"
     ]
    }
   ],
   "source": [
    "class SmartMobile(Mobile):\n",
    "    pass\n",
    "   def __init(self,brand,colour,price,memory,ram):\n",
    "        "
   ]
  },
  {
   "cell_type": "code",
   "execution_count": 96,
   "metadata": {},
   "outputs": [
    {
     "ename": "NameError",
     "evalue": "name 'SmartMobile' is not defined",
     "output_type": "error",
     "traceback": [
      "\u001b[1;31m---------------------------------------------------------------------------\u001b[0m",
      "\u001b[1;31mNameError\u001b[0m                                 Traceback (most recent call last)",
      "\u001b[1;32m<ipython-input-96-24da67d8d0dd>\u001b[0m in \u001b[0;36m<module>\u001b[1;34m\u001b[0m\n\u001b[1;32m----> 1\u001b[1;33m \u001b[0msm1\u001b[0m \u001b[1;33m=\u001b[0m \u001b[0mSmartMobile\u001b[0m\u001b[1;33m(\u001b[0m\u001b[1;34m\"Nokia\"\u001b[0m\u001b[1;33m,\u001b[0m\u001b[1;34m\"blue\"\u001b[0m\u001b[1;33m,\u001b[0m\u001b[1;36m10000\u001b[0m\u001b[1;33m,\u001b[0m\u001b[1;34m\"16GB\"\u001b[0m\u001b[1;33m,\u001b[0m\u001b[1;34m\"2GB\"\u001b[0m\u001b[1;33m)\u001b[0m\u001b[1;33m\u001b[0m\u001b[1;33m\u001b[0m\u001b[0m\n\u001b[0m",
      "\u001b[1;31mNameError\u001b[0m: name 'SmartMobile' is not defined"
     ]
    }
   ],
   "source": [
    "sm1 = SmartMobile(\"Nokia\",\"blue\",10000,\"16GB\",\"2GB\")\n"
   ]
  },
  {
   "cell_type": "code",
   "execution_count": null,
   "metadata": {},
   "outputs": [],
   "source": []
  },
  {
   "cell_type": "code",
   "execution_count": null,
   "metadata": {},
   "outputs": [],
   "source": []
  }
 ],
 "metadata": {
  "kernelspec": {
   "display_name": "Python 3",
   "language": "python",
   "name": "python3"
  },
  "language_info": {
   "codemirror_mode": {
    "name": "ipython",
    "version": 3
   },
   "file_extension": ".py",
   "mimetype": "text/x-python",
   "name": "python",
   "nbconvert_exporter": "python",
   "pygments_lexer": "ipython3",
   "version": "3.7.3"
  }
 },
 "nbformat": 4,
 "nbformat_minor": 2
}
