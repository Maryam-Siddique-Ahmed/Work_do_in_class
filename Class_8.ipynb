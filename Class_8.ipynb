{
 "cells": [
  {
   "cell_type": "markdown",
   "metadata": {},
   "source": [
    "\n",
    "# Data File Read Write"
   ]
  },
  {
   "cell_type": "code",
   "execution_count": 4,
   "metadata": {},
   "outputs": [],
   "source": [
    "with open(\"abcd.txt\", \"w\") as f: #  f is handler here\n",
    "    f.write(\"I m writing in this file for the first time\")"
   ]
  },
  {
   "cell_type": "code",
   "execution_count": 5,
   "metadata": {},
   "outputs": [],
   "source": [
    "with open(\"emptyfile.txt\", \"w\") as f:\n",
    "    f.write(\"I m writing in this file for the first time\")"
   ]
  },
  {
   "cell_type": "code",
   "execution_count": 10,
   "metadata": {},
   "outputs": [],
   "source": [
    "with open(\"emptyfile.txt\", \"w\") as f:\n",
    "    f.write(\"I m writing in this file for the first time\\n\")\n",
    "    f.write(\"I m writing in this file for the second time\\n\")"
   ]
  },
  {
   "cell_type": "code",
   "execution_count": 9,
   "metadata": {},
   "outputs": [
    {
     "name": "stdout",
     "output_type": "stream",
     "text": [
      "I m writing in this file for the first time\n",
      "I m writing in this file for the second time\n"
     ]
    }
   ],
   "source": [
    "with open(\"emptyfile.txt\", \"r\") as file:\n",
    "    content = file.read()\n",
    "print(content)"
   ]
  },
  {
   "cell_type": "code",
   "execution_count": 11,
   "metadata": {},
   "outputs": [],
   "source": [
    "with open(\"emptyfile.txt\", \"a\") as f:\n",
    "    f.write(\"This is appended text\")"
   ]
  },
  {
   "cell_type": "code",
   "execution_count": 17,
   "metadata": {},
   "outputs": [
    {
     "name": "stdout",
     "output_type": "stream",
     "text": [
      "This is write+ mode\n"
     ]
    }
   ],
   "source": [
    "with open(\"mtTextfile.txt\", \"w+\") as f:\n",
    "    f.write(\"This is write+ mode\")\n",
    "    f.seek(0)\n",
    "    content = f.read()\n",
    "    print(content)"
   ]
  },
  {
   "cell_type": "code",
   "execution_count": null,
   "metadata": {},
   "outputs": [],
   "source": []
  }
 ],
 "metadata": {
  "kernelspec": {
   "display_name": "Python 3",
   "language": "python",
   "name": "python3"
  },
  "language_info": {
   "codemirror_mode": {
    "name": "ipython",
    "version": 3
   },
   "file_extension": ".py",
   "mimetype": "text/x-python",
   "name": "python",
   "nbconvert_exporter": "python",
   "pygments_lexer": "ipython3",
   "version": "3.7.3"
  }
 },
 "nbformat": 4,
 "nbformat_minor": 2
}
