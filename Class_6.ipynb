{
 "cells": [
  {
   "cell_type": "markdown",
   "metadata": {},
   "source": [
    "# arguments and key arguments"
   ]
  },
  {
   "cell_type": "code",
   "execution_count": 2,
   "metadata": {},
   "outputs": [],
   "source": [
    "def car (model,year):\n",
    "    print(model,year)\n",
    "    "
   ]
  },
  {
   "cell_type": "code",
   "execution_count": 4,
   "metadata": {},
   "outputs": [
    {
     "name": "stdout",
     "output_type": "stream",
     "text": [
      "corolla 2019\n"
     ]
    }
   ],
   "source": [
    "car('corolla','2019')"
   ]
  },
  {
   "cell_type": "code",
   "execution_count": 5,
   "metadata": {},
   "outputs": [
    {
     "name": "stdout",
     "output_type": "stream",
     "text": [
      "2019 toyota\n"
     ]
    }
   ],
   "source": [
    "car('2019','toyota')"
   ]
  },
  {
   "cell_type": "code",
   "execution_count": 6,
   "metadata": {},
   "outputs": [
    {
     "name": "stdout",
     "output_type": "stream",
     "text": [
      "toyota 2018\n"
     ]
    }
   ],
   "source": [
    "car(year=2018,model='toyota')"
   ]
  },
  {
   "cell_type": "code",
   "execution_count": 2,
   "metadata": {},
   "outputs": [],
   "source": [
    "def name(fname,lname):\n",
    "    print(f\"firstname:{fname}\")\n",
    "    print(f\"lastname:{lname}\")"
   ]
  },
  {
   "cell_type": "code",
   "execution_count": 3,
   "metadata": {},
   "outputs": [
    {
     "name": "stdout",
     "output_type": "stream",
     "text": [
      "firstname: hussain \n",
      "lastname: ali \n"
     ]
    }
   ],
   "source": [
    "name(\" hussain \",\" ali \")"
   ]
  },
  {
   "cell_type": "code",
   "execution_count": 10,
   "metadata": {},
   "outputs": [
    {
     "name": "stdout",
     "output_type": "stream",
     "text": [
      "firstname:ali\n",
      "lastname:hussain\n"
     ]
    }
   ],
   "source": [
    "name(fname=\"ali\",lname=\"hussain\")"
   ]
  },
  {
   "cell_type": "code",
   "execution_count": 11,
   "metadata": {},
   "outputs": [
    {
     "name": "stdout",
     "output_type": "stream",
     "text": [
      "firstname:ali\n",
      "lastname:hussain\n"
     ]
    }
   ],
   "source": [
    "name(lname=\"hussain\",fname=\"ali\")"
   ]
  },
  {
   "cell_type": "code",
   "execution_count": 23,
   "metadata": {},
   "outputs": [],
   "source": [
    "def name(fname,lname,mname):#key word bhi h postinal bhi\n",
    "    print(f\"firstname:{fname}\")\n",
    "    print(f\"middlename:{mname}\")\n",
    "    print(f\"lastname:{lname}\")"
   ]
  },
  {
   "cell_type": "code",
   "execution_count": 24,
   "metadata": {},
   "outputs": [
    {
     "ename": "SyntaxError",
     "evalue": "positional argument follows keyword argument (<ipython-input-24-77094b06f50a>, line 1)",
     "output_type": "error",
     "traceback": [
      "\u001b[1;36m  File \u001b[1;32m\"<ipython-input-24-77094b06f50a>\"\u001b[1;36m, line \u001b[1;32m1\u001b[0m\n\u001b[1;33m    name(\"Maryam\",mname=\"Siddique\",\"Ahmed\")\u001b[0m\n\u001b[1;37m                                  ^\u001b[0m\n\u001b[1;31mSyntaxError\u001b[0m\u001b[1;31m:\u001b[0m positional argument follows keyword argument\n"
     ]
    }
   ],
   "source": [
    "name(\"Maryam\",mname=\"Siddique\",\"Ahmed\")"
   ]
  },
  {
   "cell_type": "code",
   "execution_count": 22,
   "metadata": {},
   "outputs": [
    {
     "name": "stdout",
     "output_type": "stream",
     "text": [
      "firstname:Maryam\n",
      "middlename:Siddique\n",
      "lastname:Ahmed\n"
     ]
    }
   ],
   "source": [
    "name(\"Maryam\",\"Ahmed\",mname=\"Siddique\")"
   ]
  },
  {
   "cell_type": "markdown",
   "metadata": {},
   "source": [
    "# Arbitary Number Of Arguments"
   ]
  },
  {
   "cell_type": "code",
   "execution_count": 34,
   "metadata": {},
   "outputs": [],
   "source": [
    "def pizza(size,flavour,*toppings):#(*)used in multiples value\n",
    "    print(size,flavour)\n",
    "    print(toppings)\n",
    "\n",
    "    "
   ]
  },
  {
   "cell_type": "code",
   "execution_count": 35,
   "metadata": {},
   "outputs": [
    {
     "name": "stdout",
     "output_type": "stream",
     "text": [
      "large chicken tikka\n",
      "('extra cheese', 'olives', 'Jalapenoes')\n"
     ]
    }
   ],
   "source": [
    "pizza(\"large\",\"chicken tikka\",\"extra cheese\",\"olives\",\"Jalapenoes\")"
   ]
  },
  {
   "cell_type": "code",
   "execution_count": 37,
   "metadata": {},
   "outputs": [
    {
     "name": "stdout",
     "output_type": "stream",
     "text": [
      "large chicken tikka\n",
      "('extra cheese',)\n"
     ]
    }
   ],
   "source": [
    "pizza(\"large\",\"chicken tikka\",\"extra cheese\") #result in the form of tupple"
   ]
  },
  {
   "cell_type": "code",
   "execution_count": 42,
   "metadata": {},
   "outputs": [],
   "source": [
    "def car(make,model,**specs): #specs means features and ** used in dict\n",
    "    print(make,model)\n",
    "    print(specs)\n"
   ]
  },
  {
   "cell_type": "code",
   "execution_count": 44,
   "metadata": {},
   "outputs": [
    {
     "name": "stdout",
     "output_type": "stream",
     "text": [
      "toyota prius\n",
      "{'transmission': 'Automatic'}\n"
     ]
    }
   ],
   "source": [
    "car(\"toyota\",\"prius\",transmission =\"Automatic\")"
   ]
  },
  {
   "cell_type": "code",
   "execution_count": 45,
   "metadata": {},
   "outputs": [
    {
     "name": "stdout",
     "output_type": "stream",
     "text": [
      "toyota prius\n",
      "{'transmission': 'Automatic', 'power': 'yes'}\n"
     ]
    }
   ],
   "source": [
    "car(\"toyota\",\"prius\",transmission =\"Automatic\",power = \"yes\") # double steraic used to print same as"
   ]
  },
  {
   "cell_type": "code",
   "execution_count": null,
   "metadata": {},
   "outputs": [],
   "source": [
    "def bridal_suit(brand,qul)"
   ]
  },
  {
   "cell_type": "code",
   "execution_count": null,
   "metadata": {},
   "outputs": [],
   "source": []
  },
  {
   "cell_type": "markdown",
   "metadata": {},
   "source": [
    "# Functions as a Variable"
   ]
  },
  {
   "cell_type": "code",
   "execution_count": 68,
   "metadata": {},
   "outputs": [],
   "source": [
    "def add(a,b):\n",
    "    c = a + b\n",
    "    return c"
   ]
  },
  {
   "cell_type": "code",
   "execution_count": 69,
   "metadata": {},
   "outputs": [],
   "source": [
    "def sub(a,b):\n",
    "    c =a - b\n",
    "    return c"
   ]
  },
  {
   "cell_type": "code",
   "execution_count": 70,
   "metadata": {},
   "outputs": [],
   "source": [
    "result = add(2,2) + sub(6,3)\n"
   ]
  },
  {
   "cell_type": "code",
   "execution_count": 71,
   "metadata": {},
   "outputs": [
    {
     "name": "stdout",
     "output_type": "stream",
     "text": [
      "7\n"
     ]
    }
   ],
   "source": [
    "print(result)"
   ]
  },
  {
   "cell_type": "code",
   "execution_count": 72,
   "metadata": {},
   "outputs": [
    {
     "ename": "TypeError",
     "evalue": "unsupported operand type(s) for -: 'str' and 'str'",
     "output_type": "error",
     "traceback": [
      "\u001b[1;31m---------------------------------------------------------------------------\u001b[0m",
      "\u001b[1;31mTypeError\u001b[0m                                 Traceback (most recent call last)",
      "\u001b[1;32m<ipython-input-72-07af70f44622>\u001b[0m in \u001b[0;36m<module>\u001b[1;34m\u001b[0m\n\u001b[1;32m----> 1\u001b[1;33m \u001b[0mresult\u001b[0m \u001b[1;33m=\u001b[0m \u001b[0madd\u001b[0m\u001b[1;33m(\u001b[0m\u001b[1;34m\"nasir\"\u001b[0m\u001b[1;33m,\u001b[0m\u001b[1;34m\"hussain\"\u001b[0m\u001b[1;33m)\u001b[0m \u001b[1;33m+\u001b[0m \u001b[0msub\u001b[0m\u001b[1;33m(\u001b[0m\u001b[1;34m\"nasir\"\u001b[0m\u001b[1;33m,\u001b[0m\u001b[1;34m\"hussain\"\u001b[0m\u001b[1;33m)\u001b[0m\u001b[1;33m\u001b[0m\u001b[1;33m\u001b[0m\u001b[0m\n\u001b[0m",
      "\u001b[1;32m<ipython-input-69-c223d957db6b>\u001b[0m in \u001b[0;36msub\u001b[1;34m(a, b)\u001b[0m\n\u001b[0;32m      1\u001b[0m \u001b[1;32mdef\u001b[0m \u001b[0msub\u001b[0m\u001b[1;33m(\u001b[0m\u001b[0ma\u001b[0m\u001b[1;33m,\u001b[0m\u001b[0mb\u001b[0m\u001b[1;33m)\u001b[0m\u001b[1;33m:\u001b[0m\u001b[1;33m\u001b[0m\u001b[1;33m\u001b[0m\u001b[0m\n\u001b[1;32m----> 2\u001b[1;33m     \u001b[0mc\u001b[0m \u001b[1;33m=\u001b[0m\u001b[0ma\u001b[0m \u001b[1;33m-\u001b[0m \u001b[0mb\u001b[0m\u001b[1;33m\u001b[0m\u001b[1;33m\u001b[0m\u001b[0m\n\u001b[0m\u001b[0;32m      3\u001b[0m     \u001b[1;32mreturn\u001b[0m \u001b[0mc\u001b[0m\u001b[1;33m\u001b[0m\u001b[1;33m\u001b[0m\u001b[0m\n",
      "\u001b[1;31mTypeError\u001b[0m: unsupported operand type(s) for -: 'str' and 'str'"
     ]
    }
   ],
   "source": [
    "result = add(\"nasir\",\"hussain\") + sub(\"nasir\",\"hussain\")"
   ]
  },
  {
   "cell_type": "code",
   "execution_count": 73,
   "metadata": {},
   "outputs": [
    {
     "name": "stdout",
     "output_type": "stream",
     "text": [
      "nasirhussain\n"
     ]
    }
   ],
   "source": [
    "result = add(\"nasir\",\"hussain\") #none tb ayie ga jb return na lga hwa hoga\n",
    "print(result)"
   ]
  },
  {
   "cell_type": "markdown",
   "metadata": {},
   "source": [
    "# While loop"
   ]
  },
  {
   "cell_type": "code",
   "execution_count": 74,
   "metadata": {},
   "outputs": [
    {
     "name": "stdout",
     "output_type": "stream",
     "text": [
      "0\n",
      "1\n",
      "2\n",
      "3\n",
      "4\n",
      "5\n",
      "6\n",
      "7\n",
      "8\n",
      "9\n"
     ]
    }
   ],
   "source": [
    "for a in range(10): # method used for loo\n",
    "    print(a)"
   ]
  },
  {
   "cell_type": "code",
   "execution_count": 78,
   "metadata": {},
   "outputs": [],
   "source": [
    "a = 10 #jb tk condtion false na hojayie tb tk prin karwyie ga\n",
    "  \n",
    "while a<10:\n",
    "        a=a+10\n",
    "        print(a)\n",
    "    "
   ]
  },
  {
   "cell_type": "code",
   "execution_count": 90,
   "metadata": {},
   "outputs": [
    {
     "name": "stdout",
     "output_type": "stream",
     "text": [
      "Enter a topping : y\n",
      "Enter a topping : h\n",
      "Enter a topping : b\n",
      "Enter a topping : b\n",
      "Enter a topping : bb\n",
      "['y', 'h', 'b', 'b', 'bb']\n"
     ]
    }
   ],
   "source": [
    "topping = []\n",
    "for a in range(5):\n",
    "    toppings = input(\"Enter a topping : \")\n",
    "    topping.append(toppings)\n",
    "print(topping)    "
   ]
  },
  {
   "cell_type": "code",
   "execution_count": 2,
   "metadata": {},
   "outputs": [
    {
     "name": "stdout",
     "output_type": "stream",
     "text": [
      "Enter a topping : m\n",
      "Enter a topping : m\n",
      "Enter a topping : q\n",
      "['m', 'm', 'q']\n"
     ]
    }
   ],
   "source": [
    "toppings = []  \n",
    "flag = True\n",
    "\n",
    "while flag:\n",
    "        topping = input(\"Enter a topping : \")\n",
    "        toppings.append(topping)\n",
    "        if topping == \"q\":\n",
    "            flag = False\n",
    "print(toppings)    "
   ]
  },
  {
   "cell_type": "code",
   "execution_count": 3,
   "metadata": {},
   "outputs": [
    {
     "name": "stdout",
     "output_type": "stream",
     "text": [
      "Enter a toppings : m\n",
      "Enter a toppings : m\n",
      "Enter a toppings : i\n",
      "Enter a toppings : q\n",
      "['m', 'm', 'i']\n"
     ]
    }
   ],
   "source": [
    "toppings = []  \n",
    "flag = True\n",
    "\n",
    "while flag:\n",
    "    \n",
    "        topping = input(\"Enter a toppings : \")\n",
    "        if topping == \"q\":\n",
    "            flag = False\n",
    "        else:\n",
    "            toppings.append(topping)\n",
    "        \n",
    "print(toppings)  "
   ]
  },
  {
   "cell_type": "code",
   "execution_count": null,
   "metadata": {},
   "outputs": [
    {
     "name": "stdout",
     "output_type": "stream",
     "text": [
      "Pizza Order\n",
      "\n",
      "\n",
      "['large', 'medium', 'small']\n",
      "Enter pizza size : small\n",
      "['large', 'medium', 'small']\n"
     ]
    }
   ],
   "source": [
    "avialableFlavours=[\"Fajita\",\"Tikka\",\"Mexican\"]\n",
    "avialableSize=['large',\"medium\",\"small\"]\n",
    "aviabalaeFlavours=[\"Olives\",\"Chesse\",\"Herbs\"]\n",
    "print(\"Pizza Order\")\n",
    "print()\n",
    "print()\n",
    "Flag = True\n",
    "while Flag:\n",
    "    print(avialableSize)\n",
    "    size = input(\"Enter pizza size : \")\n",
    "    if size not in avialableSize:\n",
    "        print(f\"{size} is not avialable\")\n",
    "        print(\"plz enter the size again\")\n",
    "        size = input(\"Enter pizza size\")\n",
    "        \n",
    "        "
   ]
  },
  {
   "cell_type": "code",
   "execution_count": null,
   "metadata": {},
   "outputs": [],
   "source": []
  },
  {
   "cell_type": "code",
   "execution_count": null,
   "metadata": {},
   "outputs": [],
   "source": []
  },
  {
   "cell_type": "code",
   "execution_count": null,
   "metadata": {},
   "outputs": [],
   "source": []
  }
 ],
 "metadata": {
  "kernelspec": {
   "display_name": "Python 3",
   "language": "python",
   "name": "python3"
  },
  "language_info": {
   "codemirror_mode": {
    "name": "ipython",
    "version": 3
   },
   "file_extension": ".py",
   "mimetype": "text/x-python",
   "name": "python",
   "nbconvert_exporter": "python",
   "pygments_lexer": "ipython3",
   "version": "3.7.3"
  }
 },
 "nbformat": 4,
 "nbformat_minor": 2
}
